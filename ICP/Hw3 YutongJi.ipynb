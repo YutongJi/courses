{
 "cells": [
  {
   "cell_type": "markdown",
   "metadata": {},
   "source": [
    "Homework 3   Yutong Ji"
   ]
  },
  {
   "cell_type": "markdown",
   "metadata": {},
   "source": [
    "# Part 1. $4th$ Order Runge-Kutta Method (RK4)"
   ]
  },
  {
   "cell_type": "code",
   "execution_count": null,
   "metadata": {},
   "outputs": [],
   "source": [
    "import math\n",
    "\n",
    "def rk4(f, t0, x0, t1, n):\n",
    "    h = (t1 - t0) / float(n)\n",
    "    t=t0\n",
    "    x=x0\n",
    "    tlist=[t0]#to store t and x values during the simulation\n",
    "    xlist=[x0]\n",
    "    for i in range(1, n + 1):\n",
    "        k1 = h * f(t, x)\n",
    "        k2 = h * f(t + 0.5 * h, x + 0.5 * k1)\n",
    "        k3 = h * f(t + 0.5 * h, x + 0.5 * k2)\n",
    "        k4 = h * f(t + h, x + k3)\n",
    "        tlist.append(t0 + i * h)\n",
    "        x=x + (k1 + k2 + k2 + k3 + k3 + k4) / 6  #main idea of Runge-Kutta\n",
    "        xlist.append(x)\n",
    "    return tlist, xlist\n",
    " \n",
    "def f(t,x):\n",
    "    return -x #define function\n",
    " \n",
    "tlist, xlist = rk4(f, 0, 1, 10, 500)\n",
    "print('  t      ', 'x  ', 'analytical results')\n",
    "for t, x in list(zip(tlist, xlist))[::1]:\n",
    "    print(\"%4.2f %10.5f %+12.4e\" % (t, x, math.exp(-t)))"
   ]
  },
  {
   "cell_type": "markdown",
   "metadata": {},
   "source": [
    "# Part 2. Three-Body Problem"
   ]
  },
  {
   "cell_type": "code",
   "execution_count": null,
   "metadata": {
    "collapsed": true
   },
   "outputs": [],
   "source": [
    "import math\n",
    "import numpy as np\n",
    "#define functions\n",
    "#i think my problem is mainly here,but i am now don't know how to fix that\n",
    "def f1(t,y,b):    \n",
    "    return y[b+2]\n",
    "\n",
    "def f2(t,y,a):\n",
    "    if a<5:\n",
    "        return -(y[a-2]-y[a+2])/(r12**3)-(y[a-2]-y[a+6])/(r13**3)\n",
    "    if 5<=a<9:\n",
    "        return -(y[a-2]-y[a+2])/(r21**3)-(y[a-2]-y[a+6])/(r23**3)\n",
    "    if a>9:\n",
    "        return -(y[a-2]-y[a+2])/(r31**3)-(y[a-2]-y[a+6])/(r32**3) \n",
    "\n",
    "\n",
    "def rk4(f1, f2, t0, t1, yin, n):\n",
    "    h = (t1 - t0) / float(n)        \n",
    "    t=t0\n",
    "    tlist=[t0]\n",
    "    for m in np.arange(0,12):\n",
    "        if m in [0,1,4,5,8,9]:\n",
    "            for i in range(1, n + 1):\n",
    "                k1 = h * f1(t, y[m], m)\n",
    "                k2 = h * f1(t + 0.5 * h, y[m] + 0.5 * k1,m)\n",
    "                k3 = h * f1(t + 0.5 * h, y + 0.5 * k2,m)\n",
    "                k4 = h * f1(t + h, y + k3,m)\n",
    "                tlist.append(t0 + i * h)\n",
    "                y[m]=y[m] + (k1 + k2 + k2 + k3 + k3 + k4) / 6\n",
    "                ylist[m].append(y[m])\n",
    "                r1=np.array([y[1],y[2]])\n",
    "                r2=np.array([y[5],y[6]])\n",
    "                r3=np.array([y[9],y[10]])\n",
    "                r12=r21=np.linalg.norm([r1,r2])\n",
    "                r13=r31=np.linalg.norm([r1,r3])\n",
    "                r23=r32=np.linalg.norm([r2,r3])\n",
    "\n",
    "        else:   \n",
    "            for i in range(1, n + 1):\n",
    "                k1 = h * f2(t, y,m)\n",
    "                k2 = h * f2(t + 0.5 * h, y + 0.5 * k1,m)\n",
    "                k3 = h * f2(t + 0.5 * h, y + 0.5 * k2,m)\n",
    "                k4 = h * f2(t + h, y + k3,m)\n",
    "                tlist.append(t0 + i * h)\n",
    "                y[m]=y[m] + (k1 + k2 + k2 + k3 + k3 + k4) / 6\n",
    "                ylist[m].append(y[m])\n",
    "                r1=np.array([y[1],y[2]])\n",
    "                r2=np.array([y[5],y[6]])\n",
    "                r3=np.array([y[9],y[10]])\n",
    "                r12=r21=np.linalg.norm([r1,r2])\n",
    "                r13=r31=np.linalg.norm([r1,r3])\n",
    "                r23=r32=np.linalg.norm([r2,r3])\n",
    "    return tlist, ylist\n"
   ]
  },
  {
   "cell_type": "code",
   "execution_count": null,
   "metadata": {
    "collapsed": true
   },
   "outputs": [],
   "source": [
    "#initial values\n",
    "y1in=-0.97000436\n",
    "y2in=0.24308753\n",
    "y3in=-0.46620368\n",
    "y4in=-0.43236573\n",
    "y5in=0.97000436\n",
    "y6in=-0.24308753\n",
    "y7in=-0.46620368\n",
    "y8in=-0.43236573\n",
    "y9in=0.0\n",
    "y10in=0.0\n",
    "y11in=0.93240737\n",
    "y12in=0.86473146\n",
    "\n",
    "#creat a list y to store all 12 viables\n",
    "y=yin=[y1in,y2in,y3in,y4in,y5in,y6in,y7in,y8in,y9in,y10in,y11in,y12in]\n",
    "#ylist to store all the y values during the simulation\n",
    "ylist=[[y1in],[y2in],[y3in],[y4in],[y5in],[y6in],[y7in],[y8in],[y9in],[y10in],[y11in],[y12in]]\n",
    "r1=np.array([yin[0],yin[1]])\n",
    "r2=np.array([yin[4],yin[5]])\n",
    "r3=np.array([yin[8],yin[9]])\n",
    "r12=r21=np.linalg.norm([r1,r2])\n",
    "r13=r31=np.linalg.norm([r1,r3])\n",
    "r23=r32=np.linalg.norm([r2,r3])\n",
    "\n",
    "\n",
    "for i in np.arange(0,12):\n",
    "    ylist[i][0]=yin[i]\n",
    "    y[i]=yin[i]"
   ]
  }
 ],
 "metadata": {
  "kernelspec": {
   "display_name": "Python 3",
   "language": "python",
   "name": "python3"
  },
  "language_info": {
   "codemirror_mode": {
    "name": "ipython",
    "version": 3
   },
   "file_extension": ".py",
   "mimetype": "text/x-python",
   "name": "python",
   "nbconvert_exporter": "python",
   "pygments_lexer": "ipython3",
   "version": "3.6.3"
  }
 },
 "nbformat": 4,
 "nbformat_minor": 2
}
